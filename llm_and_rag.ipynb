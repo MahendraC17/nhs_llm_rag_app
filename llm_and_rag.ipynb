{
 "cells": [
  {
   "cell_type": "code",
   "execution_count": 1,
   "id": "4d5f8eec",
   "metadata": {},
   "outputs": [],
   "source": [
    "import os\n",
    "import re\n",
    "from langchain.document_loaders import PyPDFLoader\n",
    "from langchain.embeddings import OpenAIEmbeddings\n",
    "from langchain.vectorstores import FAISS\n",
    "from langchain.docstore.document import Document\n",
    "from collections import defaultdict"
   ]
  },
  {
   "cell_type": "code",
   "execution_count": null,
   "id": "780ecc8d",
   "metadata": {},
   "outputs": [],
   "source": [
    "SECTION_HEADERS = [\n",
    "    \"Overview\", \"Symptoms\", \"Causes\", \"Diagnosis\", \"Treatment\",\n",
    "    \"Prevention\", \"Complications\"\n",
    "]\n",
    "\n",
    "def split_sections(text, disease_name):\n",
    "\n",
    "    pattern = \"|\".join([re.escape(sec) for sec in SECTION_HEADERS])\n",
    "    matches = list(re.finditer(pattern, text, flags=re.IGNORECASE))\n",
    "\n",
    "    sections = []\n",
    "    for i in range(len(matches)):\n",
    "        start = matches[i].start()\n",
    "        end = matches[i+1].start() if i+1 < len(matches) else len(text)\n",
    "        raw_title = matches[i].group(0).strip()\n",
    "\n",
    "        normalized_title = next(\n",
    "            (s for s in SECTION_HEADERS if s.lower() == raw_title.lower()),\n",
    "            raw_title\n",
    "        )\n",
    "\n",
    "        section_text = text[start:end].strip()\n",
    "\n",
    "        if section_text:\n",
    "            sections.append(Document(\n",
    "                page_content=section_text,\n",
    "                metadata={\"disease\": disease_name, \"section\": normalized_title}\n",
    "            ))\n",
    "    return sections\n"
   ]
  },
  {
   "cell_type": "code",
   "execution_count": 3,
   "id": "dd890f67",
   "metadata": {},
   "outputs": [],
   "source": [
    "pdf_files = {\n",
    "    # \"Addison's_disease.pdf\": \"Addison's Disease\",\n",
    "    \"Acute_pancreatitis.pdf\": \"Acute Pancreatitis\"\n",
    "}"
   ]
  },
  {
   "cell_type": "code",
   "execution_count": null,
   "id": "4a157e36",
   "metadata": {},
   "outputs": [
    {
     "name": "stdout",
     "output_type": "stream",
     "text": [
      "Acute Pancreatitis -> Overview: 1 chunk(s)\n",
      "Acute Pancreatitis -> Complications: 8 chunk(s)\n",
      "Acute Pancreatitis -> Symptoms: 7 chunk(s)\n",
      "Acute Pancreatitis -> Causes: 8 chunk(s)\n",
      "Acute Pancreatitis -> Treatment: 7 chunk(s)\n",
      "Acute Pancreatitis -> Diagnosis: 2 chunk(s)\n",
      "Acute Pancreatitis -> Prevention: 1 chunk(s)\n",
      "Created 34 smart chunks\n"
     ]
    }
   ],
   "source": [
    "all_chunks = []\n",
    "\n",
    "for file_name, disease_name in pdf_files.items():\n",
    "    loader = PyPDFLoader(os.path.join(\"data\", file_name))\n",
    "    docs = loader.load()\n",
    "\n",
    "    full_text = \"\\n\".join([doc.page_content for doc in docs])\n",
    "    sectioned_docs = split_sections(full_text, disease_name)\n",
    "\n",
    "    section_counts = defaultdict(int)\n",
    "    for doc in sectioned_docs:\n",
    "        key = (doc.metadata[\"disease\"], doc.metadata[\"section\"])\n",
    "        section_counts[key] += 1\n",
    "\n",
    "    for (disease, section), count in section_counts.items():\n",
    "        print(f\"{disease} -> {section}: {count} chunk(s)\")\n",
    "\n",
    "    all_chunks.extend(sectioned_docs)\n",
    "\n",
    "print(f\"Created {len(all_chunks)} smart chunks\")"
   ]
  },
  {
   "cell_type": "code",
   "execution_count": 5,
   "id": "d23c9e4a",
   "metadata": {},
   "outputs": [
    {
     "name": "stdout",
     "output_type": "stream",
     "text": [
      "[Document(metadata={'disease': 'Acute Pancreatitis', 'section': 'Overview'}, page_content='Overview  \\nAcute  pancreatitis  is  a  condition  where  the  pancreas  becomes  inflamed  (swollen)  over  a  \\nshort\\n \\nperiod\\n \\nof\\n \\ntime.\\n  The  pancreas  is  a  small  organ,  located  behind  the  stomach,  that  helps  with  digestion.   Most  people  with  acute  pancreatitis  start  to  feel  better  within  about  a  week  and  have  no  \\nfurther\\n \\nproblems.\\n \\nBut\\n \\nsome\\n \\npeople\\n \\nwith\\n \\nsevere\\n \\nacute\\n \\npancreatitis\\n \\ncan\\n \\ngo\\n \\non\\n \\nto\\n \\ndevelop\\n \\nserious'), Document(metadata={'disease': 'Acute Pancreatitis', 'section': 'Complications'}, page_content='complications.\\n  Acute  pancreatitis  is  different  to  chronic  pancreatitis,  where  the  pancreas  has  become  \\npermanently\\n \\ndamaged\\n \\nfrom\\n \\ninflammation\\n \\nover\\n \\nmany\\n \\nyears.'), Document(metadata={'disease': 'Acute Pancreatitis', 'section': 'Symptoms'}, page_content='Symptoms  of  acute  pancreatitis  The  most  common'), Document(metadata={'disease': 'Acute Pancreatitis', 'section': 'Symptoms'}, page_content='symptoms  of  acute  pancreatitis  include:   suddenly  getting  severe  pain  in  the  centre  of  your  tummy  (abdomen)  feeling  or  being  sick  a  high  temperature  of  38C  or  more  (fever)  Read  more  about  the'), Document(metadata={'disease': 'Acute Pancreatitis', 'section': 'Symptoms'}, page_content=\"symptoms  of  acute  pancreatitis  and  diagnosing  acute  pancreatitis.   When  to  get  medical  help  See  a  GP  immediately  if  you  suddenly  develop  severe  abdominal  pain.  If  this  isn't  possible,  \\ncontact\\n \\nNHS\\n \\n111\\n \\nfor\\n \\nadvice.\"), Document(metadata={'disease': 'Acute Pancreatitis', 'section': 'Causes'}, page_content='Causes  of  acute  pancreatitis  Acute  pancreatitis  is  most  often  linked  to:   gallstones   drinking  too  much  alcohol  But  sometimes  the  cause  is  not  known.   By  reducing  how  much  alcohol  you  drink  and  altering  your  diet  to  make  gallstones  less  likely,  \\nyou\\n \\ncan\\n \\nreduce\\n \\nyour\\n \\nchances\\n \\nof\\n \\ndeveloping\\n \\nacute\\n \\npancreatitis.\\n  Read  more  about  the'), Document(metadata={'disease': 'Acute Pancreatitis', 'section': 'Causes'}, page_content=\"causes  of  acute  pancreatitis  and  preventing  acute  pancreatitis.   How  it's  treated\"), Document(metadata={'disease': 'Acute Pancreatitis', 'section': 'Treatment'}, page_content='Treatment  for  acute  pancreatitis  aims  to  help  control  the  condition  and  manage  any'), Document(metadata={'disease': 'Acute Pancreatitis', 'section': 'Symptoms'}, page_content='symptoms.\\nThis  usually  involves  admission  to  hospital.  You  may  be  given  fluids  directly  into  a  vein  \\n(intravenous\\n \\nfluids),\\n \\npain\\n \\nrelief,\\n \\nliquid\\n \\nfood\\n \\nthrough\\n \\na\\n \\ntube\\n \\nin\\n \\nyour\\n \\ntummy\\n \\nand\\n \\noxygen\\n \\nthrough\\n \\ntubes\\n \\nin\\n \\nyour\\n \\nnose.\\n  Most  people  with  acute  pancreatitis  get  better  within  a  week  and  are  well  enough  to  leave  \\nhospital\\n \\nafter\\n \\na\\n \\nfew\\n \\ndays.\\n  Recovery  can  take  longer  in  severe  cases,  as  some  people  can  develop'), Document(metadata={'disease': 'Acute Pancreatitis', 'section': 'Complications'}, page_content='complications.'), Document(metadata={'disease': 'Acute Pancreatitis', 'section': 'Symptoms'}, page_content='Symptoms  \\nThe  main  symptom  of  acute  pancreatitis  is  a  severe  pain  that  develops  suddenly  in  the  \\ncentre\\n \\nof\\n \\nyour\\n \\ntummy.\\n  This  aching  pain  often  gets  steadily  worse  and  can  travel  along  your  back.   Other'), Document(metadata={'disease': 'Acute Pancreatitis', 'section': 'Symptoms'}, page_content=\"symptoms  of  acute  pancreatitis  include:   feeling  or  being  sick  (vomiting)  indigestion  a  high  temperature  of  38C  or  more  (fever)  yellowing  of  the  whites  of  the  eyes,  and  yellowing  of  the  skin  although  this  may  be  less  \\nobvious\\n \\non\\n \\nbrown\\n \\nor\\n \\nblack\\n \\nskin\\n \\n(jaundice)\\n tenderness  or  swelling  of  the  tummy  fast  heartbeat  (tachycardia)  or  rapid  breathing  Eating  or  drinking  may  make  you  feel  worse  very  quickly,  especially  if  you  eat  fatty  foods.   Leaning  forward  or  curling  into  a  ball  may  help  to  relieve  the  pain,  but  lying  flat  on  your  back  \\noften\\n \\nmakes\\n \\nit\\n \\nworse.\\n  Acute  pancreatitis  caused  by  gallstones  usually  develops  after  eating  a  large  meal.  If  the  \\ncondition\\n \\nis\\n \\ncaused\\n \\nby\\n \\nalcohol,\\n \\nthe\\n \\npain\\n \\noften\\n \\ndevelops\\n \\n6\\n \\nto\\n \\n12\\n \\nhours\\n \\nafter\\n \\ndrinking\\n \\nan\\n \\nexcessive\\n \\namount\\n \\nof\\n \\nalcohol.\\n  When  to  get  medical  advice  See  a  GP  immediately  if  you  suddenly  develop  severe  pain  in  your  tummy.  If  this  isn't  \\npossible,\\n \\nyou\\n \\ncan\\n \\ncall\\n \\nNHS\\n \\n111\\n \\nfor\\n \\nadvice.\\n \\nYou\\n \\nmay\\n \\nbe\\n \\nadmitted\\n \\nto\\n \\nhospital\\n \\nfor\\n \\nfurther\\n \\ntests\\n \\nand\"), Document(metadata={'disease': 'Acute Pancreatitis', 'section': 'Treatment'}, page_content='treatment.'), Document(metadata={'disease': 'Acute Pancreatitis', 'section': 'Causes'}, page_content=\"Causes  \\nAcute  pancreatitis  is  usually  caused  by  gallstones  or  drinking  too  much  alcohol,  but  \\nsometimes\\n \\nno\\n \\ncause\\n \\ncan\\n \\nbe\\n \\nidentified.\\nGallstones  Gallstones  are  small  stones  that  form  in  your  gallbladder.  They  can  sometimes  trigger  acute  \\npancreatitis\\n \\nif\\n \\nthey\\n \\nmove\\n \\nout\\n \\nof\\n \\nthe\\n \\ngallbladder\\n \\nand\\n \\nblock\\n \\nthe\\n \\nopening\\n \\nof\\n \\nthe\\n \\npancreas.\\n  Alcohol  consumption  It's  not  fully  understood  how  alcohol\"), Document(metadata={'disease': 'Acute Pancreatitis', 'section': 'Causes'}, page_content='causes  the  pancreas  to  become  swollen  (inflamed).  One  \\ntheory\\n \\nis\\n \\nthat\\n \\nit'), Document(metadata={'disease': 'Acute Pancreatitis', 'section': 'Causes'}, page_content='causes\\n \\nenzymes\\n \\ninside\\n \\nthe\\n \\npancreas\\n \\nto\\n \\nstart\\n \\ndigesting\\n \\nit.\\n  Whatever  the  cause,  there  is  a  clear  link  between  alcohol  use  and  acute  pancreatitis.   Binge  drinking  –  drinking  a  lot  of  alcohol  in  a  short  period  of  time  –  is  also  thought  to  \\nincrease\\n \\nyour\\n \\nrisk\\n \\nof\\n \\ndeveloping\\n \\nacute\\n \\npancreatitis.\\n  Other'), Document(metadata={'disease': 'Acute Pancreatitis', 'section': 'Causes'}, page_content='causes  Less  common'), Document(metadata={'disease': 'Acute Pancreatitis', 'section': 'Causes'}, page_content=\"causes  of  acute  pancreatitis  include:   high  blood  fat  levels  (hypertriglyceridaemia)  accidental  damage  or  injury  to  the  pancreas  –  for  example,  during  a  procedure  to  remove  \\ngallstones\\n \\nor\\n \\nexamine\\n \\nthe\\n \\npancreas\\n a  side  effect  of  medicine  viruses  like  mumps  or  measles  high  blood  calcium  levels  (hypercalcaemia)  the  immune  system  attacking  the  pancreas  (autoimmune  pancreatitis)  Severe  pancreatitis  You're  probably  more  likely  to  develop  severe  pancreatitis  if  you:   are  over  70  are  obese  (you  have  a  body  mass  index  (BMI)  of  30  or  above)  have  2  or  more  alcoholic  drinks  a  day  smoke  have  a  family  history  of  pancreatitis\"), Document(metadata={'disease': 'Acute Pancreatitis', 'section': 'Diagnosis'}, page_content=\"Diagnosis  \\nAcute  pancreatitis  is  usually  diagnosed  in  hospital,  where  you'll  receive\"), Document(metadata={'disease': 'Acute Pancreatitis', 'section': 'Treatment'}, page_content='treatment  and  be  \\nmonitored\\n \\nfor\\n \\nany'), Document(metadata={'disease': 'Acute Pancreatitis', 'section': 'Complications'}, page_content='complications.\\n  A  doctor  will  ask  you  about  your'), Document(metadata={'disease': 'Acute Pancreatitis', 'section': 'Symptoms'}, page_content=\"symptoms,  family  history  and  may  feel  your  tummy  –  it  will  \\nbe\\n \\nvery\\n \\ntender\\n \\nif\\n \\nyou\\n \\nhave\\n \\nacute\\n \\npancreatitis.\\n  They'll  also  do  a  blood  test,  and  sometimes  a  CT  scan,  to  help  confirm  the\"), Document(metadata={'disease': 'Acute Pancreatitis', 'section': 'Diagnosis'}, page_content=\"diagnosis.   At  first,  it  can  be  difficult  to  tell  whether  your  acute  pancreatitis  is  mild  or  severe.  You'll  be  \\nmonitored\\n \\nclosely\\n \\nfor\\n \\nsigns\\n \\nof\\n \\nserious\\n \\nproblems,\\n \\nsuch\\n \\nas\\n \\norgan\\n \\nfailure.\\n  Further  testing\\nYou  may  have  further  tests  to  help  determine  the  severity  of  your  condition  and  assess  your  \\nrisk\\n \\nof\\n \\ndeveloping\\n \\nmore\\n \\nserious\"), Document(metadata={'disease': 'Acute Pancreatitis', 'section': 'Complications'}, page_content='complications.\\n \\nThese\\n \\nmay\\n \\ninclude:\\n  a  CT  scan  –  where  a  series  of  X-rays  are  taken  to  build  up  a  more  detailed  image  of  your  \\npancreas\\n an  MRI  scan  –  where  strong  magnetic  fields  and  radio  waves  are  used  to  produce  a  detailed  \\nimage\\n \\nof\\n \\nthe\\n \\ninside\\n \\nof\\n \\nyour\\n \\nbody\\n an  ultrasound  scan  –  where  sound  waves  are  used  to  create  a  picture  of  your  gallbladder  to  \\ndetect\\n \\ngallstones,\\n \\nand\\n \\na\\n \\npicture\\n \\nof\\n \\nyour\\n \\npancreas'), Document(metadata={'disease': 'Acute Pancreatitis', 'section': 'Treatment'}, page_content=\"Treatment  \\nAcute  pancreatitis  is  treated  in  hospital,  where  you'll  be  closely  monitored  for  signs  of  serious  \\nproblems\\n \\nand\\n \\ngiven\\n \\nsupportive\"), Document(metadata={'disease': 'Acute Pancreatitis', 'section': 'Treatment'}, page_content='treatment,\\n \\nsuch\\n \\nas\\n \\nfluids\\n \\nand\\n \\noxygen.\\n  People  with  mild  acute  pancreatitis  usually  start  to  get  better  within  a  week  and  experience  \\neither\\n \\nno\\n \\nfurther\\n \\nproblems,\\n \\nor\\n \\nproblems\\n \\nthat\\n \\nget\\n \\nbetter\\n \\nwithin\\n \\n48\\n \\nhours.\\n  Many  people  are  well  enough  to  leave  hospital  after  a  few  days.   Those  with  severe  acute  pancreatitis  can  develop'), Document(metadata={'disease': 'Acute Pancreatitis', 'section': 'Complications'}, page_content='complications  that  require  further'), Document(metadata={'disease': 'Acute Pancreatitis', 'section': 'Treatment'}, page_content=\"treatment\\n \\nand\\n \\nmay\\n \\nneed\\n \\nto\\n \\nbe\\n \\nadmitted\\n \\nto\\n \\na\\n \\nhigh-dependency\\n \\nunit\\n \\nor\\n \\nintensive\\n \\ncare\\n \\nunit\\n \\n(ICU).\\n \\nRecovery\\n \\nmay\\n \\ntake\\n \\nmuch\\n \\nlonger\\n \\nfrom\\n \\nsevere\\n \\nacute\\n \\npancreatitis,\\n \\nand\\n \\nthere's\\n \\na\\n \\nrisk\\n \\nit\\n \\ncould\\n \\nbe\\n \\nfatal.\\n  Read  about\"), Document(metadata={'disease': 'Acute Pancreatitis', 'section': 'Complications'}, page_content='complications  of  acute  pancreatitis  for  more  information  on  severe  cases.   Fluids  Having  acute  pancreatitis  can  cause  you  to  become  dehydrated,  so  fluids  are  given  through  \\na\\n \\ntube\\n \\ninto\\n \\nyour\\n \\nvein\\n \\n(intravenous\\n \\nor\\n \\n\"IV\"\\n \\nfluid)\\n \\nto\\n \\nprevent\\n \\ndehydration.\\n  Oxygen  To  make  sure  your  body  gets  enough  oxygen,  you  may  be  given  oxygen  through  tubes  in  \\nyour\\n \\nnose.\\n \\nThe\\n \\ntubes\\n \\ncan\\n \\nbe\\n \\nremoved\\n \\nafter\\n \\na\\n \\nfew\\n \\ndays\\n \\nonce\\n \\nyour\\n \\ncondition\\n \\nis\\n \\nimproving.\\n  If  you  have  severe  acute  pancreatitis,  ventilation  equipment  may  also  be  used  to  help  with  \\nyour\\n \\nbreathing.\\n  Painkillers  Acute  pancreatitis  often'), Document(metadata={'disease': 'Acute Pancreatitis', 'section': 'Causes'}, page_content=\"causes  severe  tummy  pain,  so  you'll  probably  need  painkillers.  \\nSome\\n \\nof\\n \\nthese\\n \\ncan\\n \\nmake\\n \\nyou\\n \\nfeel\\n \\nvery\\n \\ndrowsy.\\n  If  you're  visiting  someone  who  is  in  hospital  with  acute  pancreatitis,  don't  be  alarmed  or  \\nconcerned\\n \\nif\\n \\nthey\\n \\nappear\\n \\ndrowsy\\n \\nor\\n \\nunresponsive.\\n  Antibiotics\\nYou  may  need  to  take  antibiotics  if  you  have  an  infection  as  well  as  pancreatitis  –  for  \\nexample,\\n \\nif\\n \\nyou\\n \\nhave\\n \\na\\n \\nchest\\n \\nor\\n \\nurinary\\n \\ninfection.\\n  Nutritional  support  If  you  have  mild  acute  pancreatitis  but  aren't  feeling  or  being  sick  and  don't  have  tummy  \\npain,\\n \\nyou\\n \\ncan\\n \\nusually\\n \\neat\\n \\nnormally.\\n  But  if  your  condition  is  more  severe,  you  may  be  advised  not  to  eat  solid  foods  for  a  few  \\ndays\\n \\nor\\n \\nlonger.\\n \\nThis\\n \\nis\\n \\nbecause\\n \\ntrying\\n \\nto\\n \\ndigest\\n \\nsolid\\n \\nfood\\n \\ncould\\n \\nput\\n \\ntoo\\n \\nmuch\\n \\nstrain\\n \\non\\n \\nyour\\n \\npancreas.\\n  If  you  need  to  avoid  solid  food,  you  may  be  given  a  special  liquid  food  mixture,  with  the  \\nnutrients\\n \\nyou\\n \\nneed,\\n \\nthrough\\n \\na\\n \\ntube\\n \\nin\\n \\nyour\\n \\ntummy\\n \\n(enteral\\n \\nfeeding).\\n  Treating  the  underlying  cause  Once  the  condition  is  under  control,  the  underlying  cause  may  need  treating.   Gallstones  If  a  gallstone  is  causing  your  pancreatitis,  you  may  need  a  procedure  called  an  endoscopic  \\nretrograde\\n \\ncholangiopancreatogram\\n \\n(ERCP),\\n \\nor\\n \\nyour\\n \\ngallbladder\\n \\nmay\\n \\nneed\\n \\nto\\n \\nbe\\n \\nremoved.\\n  If  you  need  an  ERCP,  you'll  have  a  long,  thin  tube  containing  a  camera  (an  endoscope)  \\npassed\\n \\ndown\\n \\nthrough\\n \\nyour\\n \\nmouth\\n \\ninto\\n \\nyour\\n \\ntummy.\\n \\nThis\\n \\nis\\n \\nused\\n \\nto\\n \\nhelp\\n \\nremove\\n \\nthe\\n \\ngallstones.\\n  Gallbladder  removal  surgery  may  be  done  while  you're  in  hospital  or  planned  for  several  \\nweeks'\\n \\ntime.\\n  Having  your  gallbladder  removed  shouldn't  have  a  big  effect  on  your  health,  but  it  might  \\nmake\\n \\nit\\n \\nmore\\n \\ndifficult\\n \\nfor\\n \\nyou\\n \\nto\\n \\ndigest\\n \\ncertain\\n \\nfoods,\\n \\nsuch\\n \\nas\\n \\nfatty\\n \\nor\\n \\nspicy\\n \\nfoods.\\n  Ideally,  the  gallbladder  should  be  removed  within  2  weeks  of  your  attack  of  pancreatitis  \\nunless\\n \\nyou\\n \\nare\\n \\ntoo\\n \\nunwell\\n \\nfor\\n \\nsurgery.\\n  Alcohol  consumption  After  recovering  from  acute  pancreatitis,  you  should  completely  avoid  alcohol  if  this  was  the  \\ncause\\n \\nof\\n \\nyour\\n \\ncondition.\\n  Some  people  with  acute  pancreatitis  have  a  dependency  on  alcohol  and  need  help  and  \\nsupport\\n \\nto\\n \\nstop\\n \\ndrinking.\\n \\nIf\\n \\nthis\\n \\napplies\\n \\nto\\n \\nyou,\\n \\nsee\\n \\na\\n \\nGP\\n \\nto\\n \\nget\\n \\nhelp.\"), Document(metadata={'disease': 'Acute Pancreatitis', 'section': 'Treatment'}, page_content='Treatment  for  alcohol  dependence  includes:   one-to-one  counselling  self-help  groups,  such  as  Alcoholics  Anonymous  taking  a  medicine  called  acamprosate  that  can  reduce  cravings  for  alcohol'), Document(metadata={'disease': 'Acute Pancreatitis', 'section': 'Complications'}, page_content='Complications  \\nMost  people  with  acute  pancreatitis  recover  without  experiencing  any  further  problems.  But  \\nthose\\n \\nwith\\n \\nsevere\\n \\nacute\\n \\npancreatitis\\n \\ncan\\n \\ndevelop\\n \\nserious'), Document(metadata={'disease': 'Acute Pancreatitis', 'section': 'Complications'}, page_content='complications.\\n  Pseudocysts  Sometimes,  sacs  of  fluid,  called  pseudocysts,  can  develop  on  the  surface  of  the  pancreas  in  \\npeople\\n \\nwith\\n \\nacute\\n \\npancreatitis.\\n  These  can  cause  bloating,  indigestion  and  dull  tummy  pain.  They  often  disappear  on  their  \\nown\\n \\nbut\\n \\ncan\\n \\nsometimes\\n \\nget\\n \\ninfected\\n \\nand\\n \\nmay\\n \\nneed\\n \\nto\\n \\nbe\\n \\ndrained.\\n  Pancreatic  necrosis  and  infection  Sometimes  people  with  severe  acute  pancreatitis  can  develop  a  complication  where  the  \\npancreas\\n \\nloses\\n \\nits\\n \\nblood\\n \\nsupply.\\n \\nThis\\n \\ncan\\n \\ncause\\n \\nsome\\n \\nof\\n \\nthe\\n \\ntissue\\n \\nof\\n \\nthe\\n \\npancreas\\n \\nto\\n \\ndie\\n \\n(necrosis).\\n  When  this  happens,  the  pancreas  can  become  infected,  which  can  spread  into  the  blood  \\n(sepsis)\\n \\nand\\n \\ncause\\n \\norgan\\n \\nfailure.\\n  People  with  necrosis  and  an  infection  may  need  injections  of  antibiotics  and  surgery  to  \\nremove\\n \\nthe\\n \\ndead\\n \\ntissue.\\n  This  is  a  very  serious  complication  that  needs  treating,  and  it  can  be  fatal.   Chronic  pancreatitis  If  you  keep  getting  acute  pancreatitis,  it  may  eventually  permanently  damage  your  pancreas.   This  is  called  chronic  pancreatitis  and  is  a  long-term  condition  that  can  seriously  affect  your  \\nquality\\n \\nof\\n \\nlife.'), Document(metadata={'disease': 'Acute Pancreatitis', 'section': 'Prevention'}, page_content=\"Prevention  \\nAcute  pancreatitis  is  often  caused  by  gallstones  or  drinking  too  much  alcohol.  A  healthy  \\nlifestyle\\n \\ncan\\n \\nreduce\\n \\nyour\\n \\nchances\\n \\nof\\n \\ndeveloping\\n \\nthe\\n \\ncondition.\\n  Gallstones  The  most  effective  way  of  preventing  gallstones  is  by  eating  a  balanced  diet  that  includes  at  \\nleast\\n \\n5\\n \\nportions\\n \\nof\\n \\nfresh\\n \\nfruit\\n \\nand\\n \\nvegetables\\n \\na\\n \\nday.\\n  Your  diet  should  also  include  wholegrains  –  found  in  wholemeal  bread,  oats  and  brown  rice.  \\nThis\\n \\nhelps\\n \\nlower\\n \\nthe\\n \\namount\\n \\nof\\n \\ncholesterol\\n \\nin\\n \\nyour\\n \\nbody.\\n  Because  there  seems  to  be  a  link  between  having  high  cholesterol  and  developing  \\ngallstones,\\n \\nyou\\n \\nshould\\n \\navoid\\n \\neating\\n \\ntoo\\n \\nmany\\n \\nfatty\\n \\nfoods\\n \\nwith\\n \\na\\n \\nhigh\\n \\ncholesterol\\n \\ncontent.\\nBeing  overweight  also  increases  your  chances  of  developing  gallstones.  Maintain  a  healthy  \\nweight\\n \\nby\\n \\neating\\n \\na\\n \\nbalanced\\n \\ndiet\\n \\nand\\n \\ndoing\\n \\nregular\\n \\nexercise\\n \\nto\\n \\nreduce\\n \\nyour\\n \\nrisk\\n \\nof\\n \\ndeveloping\\n \\nthe\\n \\ncondition.\\n  See  exercise,  healthy  eating  and  managing  your  weight  for  more  information  and  advice.   Alcohol  You  can  reduce  your  risk  of  developing  acute  pancreatitis  by  cutting  back  on  drinking  \\nalcohol.\\n \\nThis\\n \\nhelps\\n \\nto\\n \\nprevent\\n \\nyour\\n \\npancreas\\n \\nbeing\\n \\ndamaged.\\n  It's  recommended  that  you:   don't  drink  more  than  14  units  a  week  spread  your  drinking  over  3  days  or  more  if  you  drink  as  much  as  14  units  a  week  A  unit  of  alcohol  is  equal  to  about  half  a  pint  of  normal-strength  lager  or  a  pub  measure  \\n(25ml)\\n \\nof\\n \\nspirits.\\n \\nA\\n \\nsmall\\n \\n(125ml)\\n \\nglass\\n \\nof\\n \\nwine\\n \\n(ABV\\n \\n12%)\\n \\nor\\n \\nan\\n \\nalcopop\\n \\nis\\n \\n1.5\\n \\nunits.\\n  Remember,  if  you've  had  acute  pancreatitis  caused  by  drinking  too  much  alcohol,  you  should  \\navoid\\n \\nit\\n \\ncompletely.\")]\n"
     ]
    }
   ],
   "source": [
    "print(all_chunks)"
   ]
  }
 ],
 "metadata": {
  "kernelspec": {
   "display_name": "Python 3",
   "language": "python",
   "name": "python3"
  },
  "language_info": {
   "codemirror_mode": {
    "name": "ipython",
    "version": 3
   },
   "file_extension": ".py",
   "mimetype": "text/x-python",
   "name": "python",
   "nbconvert_exporter": "python",
   "pygments_lexer": "ipython3",
   "version": "3.12.0"
  }
 },
 "nbformat": 4,
 "nbformat_minor": 5
}
