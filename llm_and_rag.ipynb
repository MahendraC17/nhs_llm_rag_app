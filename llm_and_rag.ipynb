{
 "cells": [
  {
   "cell_type": "code",
   "execution_count": 1,
   "id": "4d5f8eec",
   "metadata": {},
   "outputs": [],
   "source": [
    "import os\n",
    "import re\n",
    "from langchain.document_loaders import PyPDFLoader\n",
    "from langchain.embeddings import OpenAIEmbeddings\n",
    "from langchain.docstore.document import Document\n",
    "from collections import defaultdict\n",
    "from langchain.vectorstores import FAISS\n",
    "from langchain.chains import RetrievalQA\n",
    "from langchain_openai import OpenAIEmbeddings, ChatOpenAI\n",
    "from langchain.docstore.document import Document\n",
    "from langchain_community.document_loaders import PyPDFLoader"
   ]
  },
  {
   "cell_type": "code",
   "execution_count": 2,
   "id": "06ca425f",
   "metadata": {},
   "outputs": [],
   "source": [
    "from config import OPENAI_API_KEY, EMBEDDING_MODEL, LLM_MODEL, FAISS_DIR, PDF_DIR\n",
    "os.environ[\"OPENAI_API_KEY\"] = OPENAI_API_KEY"
   ]
  },
  {
   "cell_type": "code",
   "execution_count": 3,
   "id": "780ecc8d",
   "metadata": {},
   "outputs": [],
   "source": [
    "SECTION_HEADERS = [\n",
    "    \"Overview\", \"Symptoms\", \"Causes\", \"Diagnosis\", \"Treatment\",\n",
    "    \"Prevention\", \"Complications\"\n",
    "]\n",
    "\n",
    "def split_sections(text, disease_name):\n",
    "\n",
    "    pattern = \"|\".join([re.escape(sec) for sec in SECTION_HEADERS])\n",
    "    matches = list(re.finditer(pattern, text, flags=re.IGNORECASE))\n",
    "\n",
    "    sections = []\n",
    "    for i in range(len(matches)):\n",
    "        start = matches[i].start()\n",
    "        end = matches[i+1].start() if i+1 < len(matches) else len(text)\n",
    "        raw_title = matches[i].group(0).strip()\n",
    "\n",
    "        normalized_title = next(\n",
    "            (s for s in SECTION_HEADERS if s.lower() == raw_title.lower()),\n",
    "            raw_title\n",
    "        )\n",
    "\n",
    "        section_text = text[start:end].strip()\n",
    "\n",
    "        if section_text:\n",
    "            sections.append(Document(\n",
    "                page_content=section_text,\n",
    "                metadata={\"disease\": disease_name, \"section\": normalized_title}\n",
    "            ))\n",
    "    return sections"
   ]
  },
  {
   "cell_type": "code",
   "execution_count": 4,
   "id": "a6c24bfa",
   "metadata": {},
   "outputs": [],
   "source": [
    "def deduplicate_chunks(docs):\n",
    "    seen = set()\n",
    "    unique_docs = []\n",
    "    for doc in docs:\n",
    "        text = doc.page_content.strip()\n",
    "        if text not in seen:\n",
    "            seen.add(text)\n",
    "            unique_docs.append(doc)\n",
    "    return unique_docs"
   ]
  },
  {
   "cell_type": "code",
   "execution_count": 5,
   "id": "3fa6b32c",
   "metadata": {},
   "outputs": [],
   "source": [
    "def split_sections(text, disease_name):\n",
    "    pattern = \"|\".join([re.escape(sec) for sec in SECTION_HEADERS])\n",
    "    matches = list(re.finditer(pattern, text, flags=re.IGNORECASE))\n",
    "\n",
    "    sections = []\n",
    "    for i in range(len(matches)):\n",
    "        start = matches[i].start()\n",
    "        end = matches[i+1].start() if i+1 < len(matches) else len(text)\n",
    "        raw_title = matches[i].group(0).strip()\n",
    "\n",
    "        normalized_title = next(\n",
    "            (s for s in SECTION_HEADERS if s.lower() == raw_title.lower()),\n",
    "            raw_title\n",
    "        )\n",
    "\n",
    "        section_text = text[start:end].strip()\n",
    "\n",
    "        if section_text:\n",
    "            sections.append(Document(\n",
    "                page_content=section_text,\n",
    "                metadata={\n",
    "                    \"disease\": disease_name,\n",
    "                    \"section\": normalized_title,\n",
    "                    \"source\": f\"{disease_name}.pdf\"\n",
    "                }\n",
    "            ))\n",
    "    return sections\n"
   ]
  },
  {
   "cell_type": "code",
   "execution_count": 6,
   "id": "4a157e36",
   "metadata": {},
   "outputs": [],
   "source": [
    "def load_and_chunk_pdfs(pdf_folder=\"data\"):\n",
    "    all_chunks = []\n",
    "    for file_name in os.listdir(pdf_folder):\n",
    "        if file_name.endswith(\".pdf\"):\n",
    "            disease_name = file_name.replace(\"_\", \" \").replace(\".pdf\", \"\")\n",
    "            loader = PyPDFLoader(os.path.join(pdf_folder, file_name))\n",
    "            docs = loader.load()\n",
    "            full_text = \"\\n\".join([doc.page_content for doc in docs])\n",
    "            sectioned_docs = split_sections(full_text, disease_name)\n",
    "            all_chunks.extend(sectioned_docs)\n",
    "\n",
    "    unique_chunks = deduplicate_chunks(all_chunks)\n",
    "    return unique_chunks"
   ]
  },
  {
   "cell_type": "code",
   "execution_count": null,
   "id": "0a246c87",
   "metadata": {},
   "outputs": [],
   "source": [
    "embedding_model = OpenAIEmbeddings(model=EMBEDDING_MODEL)"
   ]
  },
  {
   "cell_type": "code",
   "execution_count": 9,
   "id": "4141d8e5",
   "metadata": {},
   "outputs": [
    {
     "name": "stdout",
     "output_type": "stream",
     "text": [
      "Loading existing FAISS index...\n"
     ]
    }
   ],
   "source": [
    "if not os.path.exists(f\"{FAISS_DIR}/index.faiss\"):\n",
    "    print(\"Building FAISS index...\")\n",
    "    all_chunks = load_and_chunk_pdfs()\n",
    "    vectorstore = FAISS.from_documents(all_chunks, embedding_model)\n",
    "    vectorstore.save_local(FAISS_DIR)\n",
    "else:\n",
    "    print(\"Loading existing FAISS index...\")\n",
    "    vectorstore = FAISS.load_local(\n",
    "        FAISS_DIR,\n",
    "        embedding_model,\n",
    "        allow_dangerous_deserialization=True\n",
    "    )"
   ]
  },
  {
   "cell_type": "code",
   "execution_count": 10,
   "id": "088f22bc",
   "metadata": {},
   "outputs": [
    {
     "name": "stdout",
     "output_type": "stream",
     "text": [
      "Causes of acute pancreatitis include gallstones, alcohol consumption, high blood fat levels (hypertriglyceridaemia), accidental damage or injury to the pancreas, viruses like mumps or measles, high blood calcium levels (hypercalcaemia), autoimmune reactions, and certain medications. Minor causes also include family history of pancreatitis and smoking.\n",
      "\n",
      "\n",
      "Sources: Acute pancreatitis.pdf\n"
     ]
    }
   ],
   "source": [
    "llm = ChatOpenAI(\n",
    "    model=LLM_MODEL,\n",
    "    temperature=0\n",
    ")\n",
    "\n",
    "from langchain.chains import RetrievalQAWithSourcesChain\n",
    "\n",
    "qa_chain = RetrievalQAWithSourcesChain.from_chain_type(\n",
    "    llm=llm,\n",
    "    chain_type=\"stuff\",\n",
    "    retriever=vectorstore.as_retriever()\n",
    ")\n",
    "\n",
    "query = \"What causes acute pancreatis? only give cause and no discription include minor causes as well\"\n",
    "response = qa_chain.invoke({\"question\": query})\n",
    "print(response[\"answer\"])\n",
    "print(\"Sources:\", response[\"sources\"])\n"
   ]
  }
 ],
 "metadata": {
  "kernelspec": {
   "display_name": "Python 3",
   "language": "python",
   "name": "python3"
  },
  "language_info": {
   "codemirror_mode": {
    "name": "ipython",
    "version": 3
   },
   "file_extension": ".py",
   "mimetype": "text/x-python",
   "name": "python",
   "nbconvert_exporter": "python",
   "pygments_lexer": "ipython3",
   "version": "3.12.0"
  }
 },
 "nbformat": 4,
 "nbformat_minor": 5
}
